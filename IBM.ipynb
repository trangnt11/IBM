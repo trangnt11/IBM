{
 "cells": [
  {
   "cell_type": "markdown",
   "id": "1ee4cab0",
   "metadata": {},
   "source": [
    "Assignment notebook"
   ]
  },
  {
   "cell_type": "markdown",
   "id": "f711c11d",
   "metadata": {},
   "source": [
    "Hello, Here is my assignment"
   ]
  },
  {
   "cell_type": "markdown",
   "id": "5d5bf97c",
   "metadata": {},
   "source": [
    "Data Science languages: Python, R, SQL, Scala, Java, C++, and Julia."
   ]
  },
  {
   "cell_type": "markdown",
   "id": "dd2a5353",
   "metadata": {},
   "source": [
    "Data science libraries: \n",
    "    Python: TensorFlow, NumPy, SciPy , Pandas, Matplotlib, Keras, SciKit-Learn\n",
    "        R: dplyr, tidyr, readr, stringr, ggplot2"
   ]
  },
  {
   "cell_type": "markdown",
   "id": "5265c059",
   "metadata": {},
   "source": [
    "Data Science Tools\t\t\n",
    "SAS. It is one of those data science tools which are specifically designed for statistical operation\t\t\n",
    "Apache Spark\t\t\n",
    "BigML"
   ]
  },
  {
   "cell_type": "code",
   "execution_count": 1,
   "id": "6b470e73",
   "metadata": {},
   "outputs": [
    {
     "data": {
      "text/plain": [
       "9"
      ]
     },
     "execution_count": 1,
     "metadata": {},
     "output_type": "execute_result"
    }
   ],
   "source": [
    "# Arithmetic operations\n",
    "code = compile(\"5 + 4\", \"<string>\", \"eval\")\n",
    "eval(code)\n"
   ]
  },
  {
   "cell_type": "code",
   "execution_count": 2,
   "id": "204436fe",
   "metadata": {},
   "outputs": [
    {
     "data": {
      "text/plain": [
       "59"
      ]
     },
     "execution_count": 2,
     "metadata": {},
     "output_type": "execute_result"
    }
   ],
   "source": [
    "(10*5)+9"
   ]
  },
  {
   "cell_type": "code",
   "execution_count": 3,
   "id": "bf70bf08",
   "metadata": {},
   "outputs": [
    {
     "name": "stdout",
     "output_type": "stream",
     "text": [
      "0 days, 6.666666666666667 hours, 0 mins. \n"
     ]
    }
   ],
   "source": [
    "days = 0\n",
    "hours = 0\n",
    "mins = 0\n",
    "\n",
    "time = 400\n",
    "\n",
    "leftover_minutes = time % 1440\n",
    "hours = leftover_minutes / 60\n",
    "\n",
    "print(str(days) + \" days, \" + str(hours) + \" hours, \" + str(mins) +  \" mins. \")"
   ]
  },
  {
   "cell_type": "code",
   "execution_count": null,
   "id": "b26c18fe",
   "metadata": {},
   "outputs": [],
   "source": []
  },
  {
   "cell_type": "markdown",
   "id": "4e4a930f",
   "metadata": {},
   "source": [
    "Author:\n",
    "Trang Nguyen"
   ]
  }
 ],
 "metadata": {
  "kernelspec": {
   "display_name": "Python 3 (ipykernel)",
   "language": "python",
   "name": "python3"
  },
  "language_info": {
   "codemirror_mode": {
    "name": "ipython",
    "version": 3
   },
   "file_extension": ".py",
   "mimetype": "text/x-python",
   "name": "python",
   "nbconvert_exporter": "python",
   "pygments_lexer": "ipython3",
   "version": "3.10.9"
  }
 },
 "nbformat": 4,
 "nbformat_minor": 5
}
